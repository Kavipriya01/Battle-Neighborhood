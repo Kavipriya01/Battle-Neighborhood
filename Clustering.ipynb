{
 "cells": [
  {
   "cell_type": "code",
   "execution_count": 1,
   "metadata": {},
   "outputs": [
    {
     "output_type": "stream",
     "name": "stdout",
     "text": [
      "Hello Capstone project Course!\n"
     ]
    }
   ],
   "source": [
    "import pandas as pd\n",
    "import numpy as np\n",
    "print(\"Hello Capstone project Course!\")"
   ]
  },
  {
   "cell_type": "code",
   "execution_count": 6,
   "metadata": {},
   "outputs": [
    {
     "output_type": "stream",
     "name": "stdout",
     "text": [
      "Requirement already satisfied: bs4 in c:\\users\\kavi priya\\appdata\\local\\programs\\anaconda\\envs\\myenv\\lib\\site-packages (0.0.1)\n",
      "Requirement already satisfied: beautifulsoup4 in c:\\users\\kavi priya\\appdata\\local\\programs\\anaconda\\envs\\myenv\\lib\\site-packages (from bs4) (4.9.3)\n",
      "Requirement already satisfied: soupsieve>1.2; python_version >= \"3.0\" in c:\\users\\kavi priya\\appdata\\local\\programs\\anaconda\\envs\\myenv\\lib\\site-packages (from beautifulsoup4->bs4) (2.2.1)\n",
      "Collecting requests\n",
      "  Downloading requests-2.25.1-py2.py3-none-any.whl (61 kB)\n",
      "Collecting idna<3,>=2.5\n",
      "  Downloading idna-2.10-py2.py3-none-any.whl (58 kB)\n",
      "Collecting urllib3<1.27,>=1.21.1\n",
      "  Downloading urllib3-1.26.4-py2.py3-none-any.whl (153 kB)\n",
      "Collecting chardet<5,>=3.0.2\n",
      "  Downloading chardet-4.0.0-py2.py3-none-any.whl (178 kB)\n",
      "Requirement already satisfied: certifi>=2017.4.17 in c:\\users\\kavi priya\\appdata\\local\\programs\\anaconda\\envs\\myenv\\lib\\site-packages (from requests) (2020.12.5)\n",
      "Installing collected packages: idna, urllib3, chardet, requests\n",
      "Successfully installed chardet-4.0.0 idna-2.10 requests-2.25.1 urllib3-1.26.4\n",
      "  WARNING: The script chardetect.exe is installed in 'C:\\Users\\Kavi Priya\\AppData\\Local\\Programs\\anaconda\\envs\\myenv\\Scripts' which is not on PATH.\n",
      "  Consider adding this directory to PATH or, if you prefer to suppress this warning, use --no-warn-script-location.\n"
     ]
    }
   ],
   "source": [
    "## installing require packages\n",
    "!pip install bs4\n",
    "!pip install requests\n"
   ]
  },
  {
   "cell_type": "code",
   "execution_count": 9,
   "metadata": {},
   "outputs": [],
   "source": [
    "from bs4 import BeautifulSoup\n",
    "import requests\n",
    "url=\"https://en.wikipedia.org/wiki/List_of_postal_codes_of_Canada:_M\"\n",
    "page=requests.get(url)\n",
    "page=page.text\n"
   ]
  },
  {
   "cell_type": "code",
   "execution_count": 10,
   "metadata": {
    "tags": [
     "outputPrepend"
    ]
   },
   "outputs": [
    {
     "output_type": "stream",
     "name": "stdout",
     "text": [
      "f=\"/wiki/Category:Communications_in_Ontario\" title=\"Category:Communications in Ontario\">\n         Communications in Ontario\n        </a>\n       </li>\n       <li>\n        <a href=\"/wiki/Category:Postal_codes_in_Canada\" title=\"Category:Postal codes in Canada\">\n         Postal codes in Canada\n        </a>\n       </li>\n       <li>\n        <a href=\"/wiki/Category:Toronto\" title=\"Category:Toronto\">\n         Toronto\n        </a>\n       </li>\n       <li>\n        <a href=\"/wiki/Category:Ontario-related_lists\" title=\"Category:Ontario-related lists\">\n         Ontario-related lists\n        </a>\n       </li>\n      </ul>\n     </div>\n     <div class=\"mw-hidden-catlinks mw-hidden-cats-hidden\" id=\"mw-hidden-catlinks\">\n      Hidden categories:\n      <ul>\n       <li>\n        <a href=\"/wiki/Category:Articles_with_short_description\" title=\"Category:Articles with short description\">\n         Articles with short description\n        </a>\n       </li>\n       <li>\n        <a href=\"/wiki/Category:Short_description_is_different_from_Wikidata\" title=\"Category:Short description is different from Wikidata\">\n         Short description is different from Wikidata\n        </a>\n       </li>\n       <li>\n        <a href=\"/wiki/Category:Wikipedia_semi-protected_pages\" title=\"Category:Wikipedia semi-protected pages\">\n         Wikipedia semi-protected pages\n        </a>\n       </li>\n      </ul>\n     </div>\n    </div>\n   </div>\n  </div>\n  <div id=\"mw-data-after-content\">\n   <div class=\"read-more-container\">\n   </div>\n  </div>\n  <div id=\"mw-navigation\">\n   <h2>\n    Navigation menu\n   </h2>\n   <div id=\"mw-head\">\n    <!-- Please do not use role attribute as CSS selector, it is deprecated. -->\n    <nav aria-labelledby=\"p-personal-label\" class=\"mw-portlet mw-portlet-personal vector-menu\" id=\"p-personal\" role=\"navigation\">\n     <h3 class=\"vector-menu-heading\" id=\"p-personal-label\">\n      <span>\n       Personal tools\n      </span>\n     </h3>\n     <div class=\"vector-menu-content\">\n      <ul class=\"vector-menu-content-list\">\n       <li id=\"pt-anonuserpage\">\n        Not logged in\n       </li>\n       <li id=\"pt-anontalk\">\n        <a accesskey=\"n\" href=\"/wiki/Special:MyTalk\" title=\"Discussion about edits from this IP address [n]\">\n         Talk\n        </a>\n       </li>\n       <li id=\"pt-anoncontribs\">\n        <a accesskey=\"y\" href=\"/wiki/Special:MyContributions\" title=\"A list of edits made from this IP address [y]\">\n         Contributions\n        </a>\n       </li>\n       <li id=\"pt-createaccount\">\n        <a href=\"/w/index.php?title=Special:CreateAccount&amp;returnto=List+of+postal+codes+of+Canada%3A+M\" title=\"You are encouraged to create an account and log in; however, it is not mandatory\">\n         Create account\n        </a>\n       </li>\n       <li id=\"pt-login\">\n        <a accesskey=\"o\" href=\"/w/index.php?title=Special:UserLogin&amp;returnto=List+of+postal+codes+of+Canada%3A+M\" title=\"You're encouraged to log in; however, it's not mandatory. [o]\">\n         Log in\n        </a>\n       </li>\n      </ul>\n     </div>\n    </nav>\n    <div id=\"left-navigation\">\n     <!-- Please do not use role attribute as CSS selector, it is deprecated. -->\n     <nav aria-labelledby=\"p-namespaces-label\" class=\"mw-portlet mw-portlet-namespaces vector-menu vector-menu-tabs\" id=\"p-namespaces\" role=\"navigation\">\n      <h3 class=\"vector-menu-heading\" id=\"p-namespaces-label\">\n       <span>\n        Namespaces\n       </span>\n      </h3>\n      <div class=\"vector-menu-content\">\n       <ul class=\"vector-menu-content-list\">\n        <li class=\"selected\" id=\"ca-nstab-main\">\n         <a accesskey=\"c\" href=\"/wiki/List_of_postal_codes_of_Canada:_M\" title=\"View the content page [c]\">\n          Article\n         </a>\n        </li>\n        <li id=\"ca-talk\">\n         <a accesskey=\"t\" href=\"/wiki/Talk:List_of_postal_codes_of_Canada:_M\" rel=\"discussion\" title=\"Discuss improvements to the content page [t]\">\n          Talk\n         </a>\n        </li>\n       </ul>\n      </div>\n     </nav>\n     <!-- Please do not use role attribute as CSS selector, it is deprecated. -->\n     <nav aria-labelledby=\"p-variants-label\" class=\"mw-portlet mw-portlet-variants emptyPortlet vector-menu vector-menu-dropdown\" id=\"p-variants\" role=\"navigation\">\n      <input aria-labelledby=\"p-variants-label\" class=\"vector-menu-checkbox\" type=\"checkbox\"/>\n      <h3 class=\"vector-menu-heading\" id=\"p-variants-label\">\n       <span>\n        Variants\n       </span>\n      </h3>\n      <div class=\"vector-menu-content\">\n       <ul class=\"vector-menu-content-list\">\n       </ul>\n      </div>\n     </nav>\n    </div>\n    <div id=\"right-navigation\">\n     <!-- Please do not use role attribute as CSS selector, it is deprecated. -->\n     <nav aria-labelledby=\"p-views-label\" class=\"mw-portlet mw-portlet-views vector-menu vector-menu-tabs\" id=\"p-views\" role=\"navigation\">\n      <h3 class=\"vector-menu-heading\" id=\"p-views-label\">\n       <span>\n        Views\n       </span>\n      </h3>\n      <div class=\"vector-menu-content\">\n       <ul class=\"vector-menu-content-list\">\n        <li class=\"selected\" id=\"ca-view\">\n         <a href=\"/wiki/List_of_postal_codes_of_Canada:_M\">\n          Read\n         </a>\n        </li>\n        <li id=\"ca-viewsource\">\n         <a accesskey=\"e\" href=\"/w/index.php?title=List_of_postal_codes_of_Canada:_M&amp;action=edit\" title=\"This page is protected.\nYou can view its source [e]\">\n          View source\n         </a>\n        </li>\n        <li id=\"ca-history\">\n         <a accesskey=\"h\" href=\"/w/index.php?title=List_of_postal_codes_of_Canada:_M&amp;action=history\" title=\"Past revisions of this page [h]\">\n          View history\n         </a>\n        </li>\n       </ul>\n      </div>\n     </nav>\n     <!-- Please do not use role attribute as CSS selector, it is deprecated. -->\n     <nav aria-labelledby=\"p-cactions-label\" class=\"mw-portlet mw-portlet-cactions emptyPortlet vector-menu vector-menu-dropdown\" id=\"p-cactions\" role=\"navigation\">\n      <input aria-labelledby=\"p-cactions-label\" class=\"vector-menu-checkbox\" type=\"checkbox\"/>\n      <h3 class=\"vector-menu-heading\" id=\"p-cactions-label\">\n       <span>\n        More\n       </span>\n      </h3>\n      <div class=\"vector-menu-content\">\n       <ul class=\"vector-menu-content-list\">\n       </ul>\n      </div>\n     </nav>\n     <div id=\"p-search\" role=\"search\">\n      <h3>\n       <label for=\"searchInput\">\n        Search\n       </label>\n      </h3>\n      <form action=\"/w/index.php\" id=\"searchform\">\n       <div data-search-loc=\"header-navigation\" id=\"simpleSearch\">\n        <input accesskey=\"f\" autocapitalize=\"sentences\" id=\"searchInput\" name=\"search\" placeholder=\"Search Wikipedia\" title=\"Search Wikipedia [f]\" type=\"search\"/>\n        <input name=\"title\" type=\"hidden\" value=\"Special:Search\"/>\n        <input class=\"searchButton mw-fallbackSearchButton\" id=\"mw-searchButton\" name=\"fulltext\" title=\"Search Wikipedia for this text\" type=\"submit\" value=\"Search\"/>\n        <input class=\"searchButton\" id=\"searchButton\" name=\"go\" title=\"Go to a page with this exact name if it exists\" type=\"submit\" value=\"Go\"/>\n       </div>\n      </form>\n     </div>\n    </div>\n   </div>\n   <div id=\"mw-panel\">\n    <div id=\"p-logo\" role=\"banner\">\n     <a class=\"mw-wiki-logo\" href=\"/wiki/Main_Page\" title=\"Visit the main page\">\n     </a>\n    </div>\n    <!-- Please do not use role attribute as CSS selector, it is deprecated. -->\n    <nav aria-labelledby=\"p-navigation-label\" class=\"mw-portlet mw-portlet-navigation vector-menu vector-menu-portal portal\" id=\"p-navigation\" role=\"navigation\">\n     <h3 class=\"vector-menu-heading\" id=\"p-navigation-label\">\n      <span>\n       Navigation\n      </span>\n     </h3>\n     <div class=\"vector-menu-content\">\n      <ul class=\"vector-menu-content-list\">\n       <li id=\"n-mainpage-description\">\n        <a accesskey=\"z\" href=\"/wiki/Main_Page\" title=\"Visit the main page [z]\">\n         Main page\n        </a>\n       </li>\n       <li id=\"n-contents\">\n        <a href=\"/wiki/Wikipedia:Contents\" title=\"Guides to browsing Wikipedia\">\n         Contents\n        </a>\n       </li>\n       <li id=\"n-currentevents\">\n        <a href=\"/wiki/Portal:Current_events\" title=\"Articles related to current events\">\n         Current events\n        </a>\n       </li>\n       <li id=\"n-randompage\">\n        <a accesskey=\"x\" href=\"/wiki/Special:Random\" title=\"Visit a randomly selected article [x]\">\n         Random article\n        </a>\n       </li>\n       <li id=\"n-aboutsite\">\n        <a href=\"/wiki/Wikipedia:About\" title=\"Learn about Wikipedia and how it works\">\n         About Wikipedia\n        </a>\n       </li>\n       <li id=\"n-contactpage\">\n        <a href=\"//en.wikipedia.org/wiki/Wikipedia:Contact_us\" title=\"How to contact Wikipedia\">\n         Contact us\n        </a>\n       </li>\n       <li id=\"n-sitesupport\">\n        <a href=\"https://donate.wikimedia.org/wiki/Special:FundraiserRedirector?utm_source=donate&amp;utm_medium=sidebar&amp;utm_campaign=C13_en.wikipedia.org&amp;uselang=en\" title=\"Support us by donating to the Wikimedia Foundation\">\n         Donate\n        </a>\n       </li>\n      </ul>\n     </div>\n    </nav>\n    <!-- Please do not use role attribute as CSS selector, it is deprecated. -->\n    <nav aria-labelledby=\"p-interaction-label\" class=\"mw-portlet mw-portlet-interaction vector-menu vector-menu-portal portal\" id=\"p-interaction\" role=\"navigation\">\n     <h3 class=\"vector-menu-heading\" id=\"p-interaction-label\">\n      <span>\n       Contribute\n      </span>\n     </h3>\n     <div class=\"vector-menu-content\">\n      <ul class=\"vector-menu-content-list\">\n       <li id=\"n-help\">\n        <a href=\"/wiki/Help:Contents\" title=\"Guidance on how to use and edit Wikipedia\">\n         Help\n        </a>\n       </li>\n       <li id=\"n-introduction\">\n        <a href=\"/wiki/Help:Introduction\" title=\"Learn how to edit Wikipedia\">\n         Learn to edit\n        </a>\n       </li>\n       <li id=\"n-portal\">\n        <a href=\"/wiki/Wikipedia:Community_portal\" title=\"The hub for editors\">\n         Community portal\n        </a>\n       </li>\n       <li id=\"n-recentchanges\">\n        <a accesskey=\"r\" href=\"/wiki/Special:RecentChanges\" title=\"A list of recent changes to Wikipedia [r]\">\n         Recent changes\n        </a>\n       </li>\n       <li id=\"n-upload\">\n        <a href=\"/wiki/Wikipedia:File_Upload_Wizard\" title=\"Add images or other media for use on Wikipedia\">\n         Upload file\n        </a>\n       </li>\n      </ul>\n     </div>\n    </nav>\n    <!-- Please do not use role attribute as CSS selector, it is deprecated. -->\n    <nav aria-labelledby=\"p-tb-label\" class=\"mw-portlet mw-portlet-tb vector-menu vector-menu-portal portal\" id=\"p-tb\" role=\"navigation\">\n     <h3 class=\"vector-menu-heading\" id=\"p-tb-label\">\n      <span>\n       Tools\n      </span>\n     </h3>\n     <div class=\"vector-menu-content\">\n      <ul class=\"vector-menu-content-list\">\n       <li id=\"t-whatlinkshere\">\n        <a accesskey=\"j\" href=\"/wiki/Special:WhatLinksHere/List_of_postal_codes_of_Canada:_M\" title=\"List of all English Wikipedia pages containing links to this page [j]\">\n         What links here\n        </a>\n       </li>\n       <li id=\"t-recentchangeslinked\">\n        <a accesskey=\"k\" href=\"/wiki/Special:RecentChangesLinked/List_of_postal_codes_of_Canada:_M\" rel=\"nofollow\" title=\"Recent changes in pages linked from this page [k]\">\n         Related changes\n        </a>\n       </li>\n       <li id=\"t-upload\">\n        <a accesskey=\"u\" href=\"/wiki/Wikipedia:File_Upload_Wizard\" title=\"Upload files [u]\">\n         Upload file\n        </a>\n       </li>\n       <li id=\"t-specialpages\">\n        <a accesskey=\"q\" href=\"/wiki/Special:SpecialPages\" title=\"A list of all special pages [q]\">\n         Special pages\n        </a>\n       </li>\n       <li id=\"t-permalink\">\n        <a href=\"/w/index.php?title=List_of_postal_codes_of_Canada:_M&amp;oldid=1013111980\" title=\"Permanent link to this revision of this page\">\n         Permanent link\n        </a>\n       </li>\n       <li id=\"t-info\">\n        <a href=\"/w/index.php?title=List_of_postal_codes_of_Canada:_M&amp;action=info\" title=\"More information about this page\">\n         Page information\n        </a>\n       </li>\n       <li id=\"t-cite\">\n        <a href=\"/w/index.php?title=Special:CiteThisPage&amp;page=List_of_postal_codes_of_Canada%3A_M&amp;id=1013111980&amp;wpFormIdentifier=titleform\" title=\"Information on how to cite this page\">\n         Cite this page\n        </a>\n       </li>\n       <li id=\"t-wikibase\">\n        <a accesskey=\"g\" href=\"https://www.wikidata.org/wiki/Special:EntityPage/Q3248240\" title=\"Structured data on this page hosted by Wikidata [g]\">\n         Wikidata item\n        </a>\n       </li>\n      </ul>\n     </div>\n    </nav>\n    <!-- Please do not use role attribute as CSS selector, it is deprecated. -->\n    <nav aria-labelledby=\"p-coll-print_export-label\" class=\"mw-portlet mw-portlet-coll-print_export vector-menu vector-menu-portal portal\" id=\"p-coll-print_export\" role=\"navigation\">\n     <h3 class=\"vector-menu-heading\" id=\"p-coll-print_export-label\">\n      <span>\n       Print/export\n      </span>\n     </h3>\n     <div class=\"vector-menu-content\">\n      <ul class=\"vector-menu-content-list\">\n       <li id=\"coll-download-as-rl\">\n        <a href=\"/w/index.php?title=Special:DownloadAsPdf&amp;page=List_of_postal_codes_of_Canada%3A_M&amp;action=show-download-screen\" title=\"Download this page as a PDF file\">\n         Download as PDF\n        </a>\n       </li>\n       <li id=\"t-print\">\n        <a accesskey=\"p\" href=\"/w/index.php?title=List_of_postal_codes_of_Canada:_M&amp;printable=yes\" title=\"Printable version of this page [p]\">\n         Printable version\n        </a>\n       </li>\n      </ul>\n     </div>\n    </nav>\n    <!-- Please do not use role attribute as CSS selector, it is deprecated. -->\n    <nav aria-labelledby=\"p-lang-label\" class=\"mw-portlet mw-portlet-lang vector-menu vector-menu-portal portal\" id=\"p-lang\" role=\"navigation\">\n     <h3 class=\"vector-menu-heading\" id=\"p-lang-label\">\n      <span>\n       Languages\n      </span>\n     </h3>\n     <div class=\"vector-menu-content\">\n      <ul class=\"vector-menu-content-list\">\n       <li class=\"interlanguage-link interwiki-fr\">\n        <a class=\"interlanguage-link-target\" href=\"https://fr.wikipedia.org/wiki/Liste_des_codes_postaux_canadiens_d%C3%A9butant_par_M\" hreflang=\"fr\" lang=\"fr\" title=\"Liste des codes postaux canadiens débutant par M – French\">\n         Français\n        </a>\n       </li>\n      </ul>\n      <div class=\"after-portlet after-portlet-lang\">\n       <span class=\"wb-langlinks-edit wb-langlinks-link\">\n        <a class=\"wbc-editpage\" href=\"https://www.wikidata.org/wiki/Special:EntityPage/Q3248240#sitelinks-wikipedia\" title=\"Edit interlanguage links\">\n         Edit links\n        </a>\n       </span>\n      </div>\n     </div>\n    </nav>\n   </div>\n  </div>\n  <footer class=\"mw-footer\" id=\"footer\" role=\"contentinfo\">\n   <ul id=\"footer-info\">\n    <li id=\"footer-info-lastmod\">\n     This page was last edited on 20 March 2021, at 02:15\n     <span class=\"anonymous-show\">\n      (UTC)\n     </span>\n     .\n    </li>\n    <li id=\"footer-info-copyright\">\n     Text is available under the\n     <a href=\"//en.wikipedia.org/wiki/Wikipedia:Text_of_Creative_Commons_Attribution-ShareAlike_3.0_Unported_License\" rel=\"license\">\n      Creative Commons Attribution-ShareAlike License\n     </a>\n     <a href=\"//creativecommons.org/licenses/by-sa/3.0/\" rel=\"license\" style=\"display:none;\">\n     </a>\n     ;\nadditional terms may apply.  By using this site, you agree to the\n     <a href=\"//foundation.wikimedia.org/wiki/Terms_of_Use\">\n      Terms of Use\n     </a>\n     and\n     <a href=\"//foundation.wikimedia.org/wiki/Privacy_policy\">\n      Privacy Policy\n     </a>\n     . Wikipedia® is a registered trademark of the\n     <a href=\"//www.wikimediafoundation.org/\">\n      Wikimedia Foundation, Inc.\n     </a>\n     , a non-profit organization.\n    </li>\n   </ul>\n   <ul id=\"footer-places\">\n    <li id=\"footer-places-privacy\">\n     <a class=\"extiw\" href=\"https://foundation.wikimedia.org/wiki/Privacy_policy\" title=\"wmf:Privacy policy\">\n      Privacy policy\n     </a>\n    </li>\n    <li id=\"footer-places-about\">\n     <a href=\"/wiki/Wikipedia:About\" title=\"Wikipedia:About\">\n      About Wikipedia\n     </a>\n    </li>\n    <li id=\"footer-places-disclaimer\">\n     <a href=\"/wiki/Wikipedia:General_disclaimer\" title=\"Wikipedia:General disclaimer\">\n      Disclaimers\n     </a>\n    </li>\n    <li id=\"footer-places-contact\">\n     <a href=\"//en.wikipedia.org/wiki/Wikipedia:Contact_us\">\n      Contact Wikipedia\n     </a>\n    </li>\n    <li id=\"footer-places-mobileview\">\n     <a class=\"noprint stopMobileRedirectToggle\" href=\"//en.m.wikipedia.org/w/index.php?title=List_of_postal_codes_of_Canada:_M&amp;mobileaction=toggle_view_mobile\">\n      Mobile view\n     </a>\n    </li>\n    <li id=\"footer-places-developers\">\n     <a href=\"https://www.mediawiki.org/wiki/Special:MyLanguage/How_to_contribute\">\n      Developers\n     </a>\n    </li>\n    <li id=\"footer-places-statslink\">\n     <a href=\"https://stats.wikimedia.org/#/en.wikipedia.org\">\n      Statistics\n     </a>\n    </li>\n    <li id=\"footer-places-cookiestatement\">\n     <a href=\"https://foundation.wikimedia.org/wiki/Cookie_statement\">\n      Cookie statement\n     </a>\n    </li>\n   </ul>\n   <ul class=\"noprint\" id=\"footer-icons\">\n    <li id=\"footer-copyrightico\">\n     <a href=\"https://wikimediafoundation.org/\">\n      <img alt=\"Wikimedia Foundation\" height=\"31\" loading=\"lazy\" src=\"/static/images/footer/wikimedia-button.png\" srcset=\"/static/images/footer/wikimedia-button-1.5x.png 1.5x, /static/images/footer/wikimedia-button-2x.png 2x\" width=\"88\"/>\n     </a>\n    </li>\n    <li id=\"footer-poweredbyico\">\n     <a href=\"https://www.mediawiki.org/\">\n      <img alt=\"Powered by MediaWiki\" height=\"31\" loading=\"lazy\" src=\"/static/images/footer/poweredby_mediawiki_88x31.png\" srcset=\"/static/images/footer/poweredby_mediawiki_132x47.png 1.5x, /static/images/footer/poweredby_mediawiki_176x62.png 2x\" width=\"88\"/>\n     </a>\n    </li>\n   </ul>\n  </footer>\n  <script>\n   (RLQ=window.RLQ||[]).push(function(){mw.config.set({\"wgPageParseReport\":{\"limitreport\":{\"cputime\":\"0.342\",\"walltime\":\"0.415\",\"ppvisitednodes\":{\"value\":2749,\"limit\":1000000},\"postexpandincludesize\":{\"value\":43366,\"limit\":2097152},\"templateargumentsize\":{\"value\":20263,\"limit\":2097152},\"expansiondepth\":{\"value\":8,\"limit\":40},\"expensivefunctioncount\":{\"value\":3,\"limit\":500},\"unstrip-depth\":{\"value\":1,\"limit\":20},\"unstrip-size\":{\"value\":9406,\"limit\":5000000},\"entityaccesscount\":{\"value\":0,\"limit\":400},\"timingprofile\":[\"100.00%  282.306      1 -total\",\" 40.47%  114.245      3 Template:Cite_web\",\" 26.68%   75.333      1 Template:Short_description\",\" 17.27%   48.755      1 Template:Pp\",\" 15.91%   44.905      1 Template:Pagetype\",\"  6.58%   18.577    180 Template:Resize\",\"  5.98%   16.890      2 Template:Main_other\",\"  4.57%   12.903      1 Template:SDcat\",\"  2.14%    6.053      1 Template:Canadian_postal_codes\"]},\"scribunto\":{\"limitreport-timeusage\":{\"value\":\"0.139\",\"limit\":\"10.000\"},\"limitreport-memusage\":{\"value\":3061855,\"limit\":52428800}},\"cachereport\":{\"origin\":\"mw1373\",\"timestamp\":\"20210410152923\",\"ttl\":2592000,\"transientcontent\":false}}});});\n  </script>\n  <script type=\"application/ld+json\">\n   {\"@context\":\"https:\\/\\/schema.org\",\"@type\":\"Article\",\"name\":\"List of postal codes of Canada: M\",\"url\":\"https:\\/\\/en.wikipedia.org\\/wiki\\/List_of_postal_codes_of_Canada:_M\",\"sameAs\":\"http:\\/\\/www.wikidata.org\\/entity\\/Q3248240\",\"mainEntity\":\"http:\\/\\/www.wikidata.org\\/entity\\/Q3248240\",\"author\":{\"@type\":\"Organization\",\"name\":\"Contributors to Wikimedia projects\"},\"publisher\":{\"@type\":\"Organization\",\"name\":\"Wikimedia Foundation, Inc.\",\"logo\":{\"@type\":\"ImageObject\",\"url\":\"https:\\/\\/www.wikimedia.org\\/static\\/images\\/wmf-hor-googpub.png\"}},\"datePublished\":\"2004-03-20T10:02:13Z\",\"dateModified\":\"2021-03-20T02:15:33Z\",\"headline\":\"Wikimedia list article\"}\n  </script>\n  <script>\n   (RLQ=window.RLQ||[]).push(function(){mw.config.set({\"wgBackendResponseTime\":121,\"wgHostname\":\"mw1411\"});});\n  </script>\n </body>\n</html>\n"
     ]
    }
   ],
   "source": [
    "soup=BeautifulSoup(page,\"html.parser\")\n",
    "print(soup.prettify())"
   ]
  },
  {
   "cell_type": "code",
   "execution_count": 47,
   "metadata": {},
   "outputs": [],
   "source": [
    "table_contents=[]\n",
    "table=soup.find('table')\n",
    "for row in table.findAll('td'):\n",
    "    cell = {}\n",
    "    if row.span.text=='Not assigned':\n",
    "        pass\n",
    "    else:\n",
    "        cell['PostalCode'] = row.p.text[:3]\n",
    "        cell['Borough'] = (row.span.text).split('(')[0]\n",
    "        cell['Neighborhood'] = (((((row.span.text).split('(')[1]).strip(')')).replace(' /',',')).replace(')',' ')).strip(' ')\n",
    "        table_contents.append(cell)\n",
    "\n",
    "# print(table_contents)\n",
    "df=pd.DataFrame(table_contents)\n",
    "df['Borough']=df['Borough'].replace({'Downtown TorontoStn A PO Boxes25 The Esplanade':'Downtown Toronto Stn A',\n",
    "                                             'East TorontoBusiness reply mail Processing Centre969 Eastern':'East Toronto Business',\n",
    "                                             'EtobicokeNorthwest':'Etobicoke Northwest','East YorkEast Toronto':'East York/East Toronto',\n",
    "                                             'MississaugaCanada Post Gateway Processing Centre':'Mississauga'})"
   ]
  },
  {
   "cell_type": "code",
   "execution_count": 48,
   "metadata": {},
   "outputs": [
    {
     "output_type": "execute_result",
     "data": {
      "text/plain": [
       "    PostalCode                Borough  \\\n",
       "0          M3A             North York   \n",
       "1          M4A             North York   \n",
       "2          M5A       Downtown Toronto   \n",
       "3          M6A             North York   \n",
       "4          M7A           Queen's Park   \n",
       "..         ...                    ...   \n",
       "98         M8X              Etobicoke   \n",
       "99         M4Y       Downtown Toronto   \n",
       "100        M7Y  East Toronto Business   \n",
       "101        M8Y              Etobicoke   \n",
       "102        M8Z              Etobicoke   \n",
       "\n",
       "                                          Neighborhood  \n",
       "0                                            Parkwoods  \n",
       "1                                     Victoria Village  \n",
       "2                            Regent Park, Harbourfront  \n",
       "3                     Lawrence Manor, Lawrence Heights  \n",
       "4                        Ontario Provincial Government  \n",
       "..                                                 ...  \n",
       "98       The Kingsway, Montgomery Road, Old Mill North  \n",
       "99                                Church and Wellesley  \n",
       "100                                     Enclave of M4L  \n",
       "101  Old Mill South, King's Mill Park, Sunnylea, Hu...  \n",
       "102  Mimico NW, The Queensway West, South of Bloor,...  \n",
       "\n",
       "[103 rows x 3 columns]"
      ],
      "text/html": "<div>\n<style scoped>\n    .dataframe tbody tr th:only-of-type {\n        vertical-align: middle;\n    }\n\n    .dataframe tbody tr th {\n        vertical-align: top;\n    }\n\n    .dataframe thead th {\n        text-align: right;\n    }\n</style>\n<table border=\"1\" class=\"dataframe\">\n  <thead>\n    <tr style=\"text-align: right;\">\n      <th></th>\n      <th>PostalCode</th>\n      <th>Borough</th>\n      <th>Neighborhood</th>\n    </tr>\n  </thead>\n  <tbody>\n    <tr>\n      <th>0</th>\n      <td>M3A</td>\n      <td>North York</td>\n      <td>Parkwoods</td>\n    </tr>\n    <tr>\n      <th>1</th>\n      <td>M4A</td>\n      <td>North York</td>\n      <td>Victoria Village</td>\n    </tr>\n    <tr>\n      <th>2</th>\n      <td>M5A</td>\n      <td>Downtown Toronto</td>\n      <td>Regent Park, Harbourfront</td>\n    </tr>\n    <tr>\n      <th>3</th>\n      <td>M6A</td>\n      <td>North York</td>\n      <td>Lawrence Manor, Lawrence Heights</td>\n    </tr>\n    <tr>\n      <th>4</th>\n      <td>M7A</td>\n      <td>Queen's Park</td>\n      <td>Ontario Provincial Government</td>\n    </tr>\n    <tr>\n      <th>...</th>\n      <td>...</td>\n      <td>...</td>\n      <td>...</td>\n    </tr>\n    <tr>\n      <th>98</th>\n      <td>M8X</td>\n      <td>Etobicoke</td>\n      <td>The Kingsway, Montgomery Road, Old Mill North</td>\n    </tr>\n    <tr>\n      <th>99</th>\n      <td>M4Y</td>\n      <td>Downtown Toronto</td>\n      <td>Church and Wellesley</td>\n    </tr>\n    <tr>\n      <th>100</th>\n      <td>M7Y</td>\n      <td>East Toronto Business</td>\n      <td>Enclave of M4L</td>\n    </tr>\n    <tr>\n      <th>101</th>\n      <td>M8Y</td>\n      <td>Etobicoke</td>\n      <td>Old Mill South, King's Mill Park, Sunnylea, Hu...</td>\n    </tr>\n    <tr>\n      <th>102</th>\n      <td>M8Z</td>\n      <td>Etobicoke</td>\n      <td>Mimico NW, The Queensway West, South of Bloor,...</td>\n    </tr>\n  </tbody>\n</table>\n<p>103 rows × 3 columns</p>\n</div>"
     },
     "metadata": {},
     "execution_count": 48
    }
   ],
   "source": [
    "df"
   ]
  },
  {
   "cell_type": "code",
   "execution_count": 13,
   "metadata": {},
   "outputs": [
    {
     "output_type": "execute_result",
     "data": {
      "text/plain": [
       "(103, 3)"
      ]
     },
     "metadata": {},
     "execution_count": 13
    }
   ],
   "source": [
    "df.shape"
   ]
  },
  {
   "cell_type": "code",
   "execution_count": 18,
   "metadata": {},
   "outputs": [
    {
     "output_type": "stream",
     "name": "stdout",
     "text": [
      "Collecting geocoder\n",
      "  Using cached geocoder-1.38.1-py2.py3-none-any.whl (98 kB)\n",
      "Requirement already satisfied: six in c:\\users\\kavi priya\\appdata\\local\\programs\\anaconda\\envs\\myenv\\lib\\site-packages (from geocoder) (1.15.0)\n",
      "Requirement already satisfied: requests in c:\\users\\kavi priya\\appdata\\local\\programs\\anaconda\\envs\\myenv\\lib\\site-packages (from geocoder) (2.25.1)\n",
      "Collecting future\n",
      "  Using cached future-0.18.2.tar.gz (829 kB)\n",
      "Collecting ratelim\n",
      "  Using cached ratelim-0.1.6-py2.py3-none-any.whl (4.0 kB)\n",
      "Collecting click\n",
      "  Downloading click-7.1.2-py2.py3-none-any.whl (82 kB)\n",
      "Requirement already satisfied: idna<3,>=2.5 in c:\\users\\kavi priya\\appdata\\local\\programs\\anaconda\\envs\\myenv\\lib\\site-packages (from requests->geocoder) (2.10)\n",
      "Requirement already satisfied: certifi>=2017.4.17 in c:\\users\\kavi priya\\appdata\\local\\programs\\anaconda\\envs\\myenv\\lib\\site-packages (from requests->geocoder) (2020.12.5)\n",
      "Requirement already satisfied: urllib3<1.27,>=1.21.1 in c:\\users\\kavi priya\\appdata\\local\\programs\\anaconda\\envs\\myenv\\lib\\site-packages (from requests->geocoder) (1.26.4)\n",
      "Requirement already satisfied: chardet<5,>=3.0.2 in c:\\users\\kavi priya\\appdata\\local\\programs\\anaconda\\envs\\myenv\\lib\\site-packages (from requests->geocoder) (4.0.0)\n",
      "Requirement already satisfied: decorator in c:\\users\\kavi priya\\appdata\\local\\programs\\anaconda\\envs\\myenv\\lib\\site-packages (from ratelim->geocoder) (4.4.2)\n",
      "Building wheels for collected packages: future\n",
      "  Building wheel for future (setup.py): started\n",
      "  Building wheel for future (setup.py): finished with status 'done'\n",
      "  Created wheel for future: filename=future-0.18.2-py3-none-any.whl size=491062 sha256=d1307c732c443215f8b810f8897a0e1d8e0fcaf50b4919a2190b0ea93b372841\n",
      "  Stored in directory: c:\\users\\kavi priya\\appdata\\local\\pip\\cache\\wheels\\8e\\70\\28\\3d6ccd6e315f65f245da085482a2e1c7d14b90b30f239e2cf4\n",
      "Successfully built future\n",
      "Installing collected packages: future, ratelim, click, geocoder\n",
      "Successfully installed click-7.1.2 future-0.18.2 geocoder-1.38.1 ratelim-0.1.6\n",
      "  WARNING: The scripts futurize.exe and pasteurize.exe are installed in 'C:\\Users\\Kavi Priya\\AppData\\Local\\Programs\\anaconda\\envs\\myenv\\Scripts' which is not on PATH.\n",
      "  Consider adding this directory to PATH or, if you prefer to suppress this warning, use --no-warn-script-location.\n",
      "  WARNING: The script geocode.exe is installed in 'C:\\Users\\Kavi Priya\\AppData\\Local\\Programs\\anaconda\\envs\\myenv\\Scripts' which is not on PATH.\n",
      "  Consider adding this directory to PATH or, if you prefer to suppress this warning, use --no-warn-script-location.\n"
     ]
    }
   ],
   "source": [
    "!pip install geocoder"
   ]
  },
  {
   "cell_type": "code",
   "execution_count": 40,
   "metadata": {},
   "outputs": [
    {
     "output_type": "stream",
     "name": "stdout",
     "text": [
      "M3A\n",
      "[43.75245000000007, -79.32990999999998]\n",
      "M4A\n",
      "[43.73057000000006, -79.31305999999995]\n",
      "M5A\n",
      "[43.65512000000007, -79.36263999999994]\n",
      "M6A\n",
      "[43.72327000000007, -79.45041999999995]\n",
      "M7A\n",
      "[43.66253000000006, -79.39187999999996]\n",
      "M9A\n",
      "[43.662630000000036, -79.52830999999998]\n",
      "M1B\n",
      "[43.811390000000074, -79.19661999999994]\n",
      "M3B\n",
      "[43.74923000000007, -79.36185999999998]\n",
      "M4B\n",
      "[43.70718000000005, -79.31191999999999]\n",
      "M5B\n",
      "[43.65739000000008, -79.37803999999994]\n",
      "M6B\n",
      "[43.70687000000004, -79.44811999999996]\n",
      "M9B\n",
      "[43.65034000000003, -79.55361999999997]\n",
      "M1C\n",
      "[43.78574000000003, -79.15874999999994]\n",
      "M3C\n",
      "[43.72168000000005, -79.34351999999996]\n",
      "M4C\n",
      "[43.68970000000007, -79.30681999999996]\n",
      "M5C\n",
      "[43.65215000000006, -79.37586999999996]\n",
      "M6C\n",
      "[43.69211000000007, -79.43035999999995]\n",
      "M9C\n",
      "[43.64857000000006, -79.57824999999997]\n",
      "M1E\n",
      "[43.765750000000025, -79.17469999999997]\n",
      "M4E\n",
      "[43.67709000000008, -79.29546999999997]\n",
      "M5E\n",
      "Status code Unknown from https://geocode.arcgis.com/arcgis/rest/services/World/GeocodeServer/find: ERROR - HTTPSConnectionPool(host='geocode.arcgis.com', port=443): Read timed out. (read timeout=5.0)\n",
      "None\n",
      "[43.64536000000004, -79.37305999999995]\n",
      "M6E\n",
      "[43.68784000000005, -79.45045999999996]\n",
      "M1G\n",
      "[43.76812000000007, -79.21760999999998]\n",
      "M4G\n",
      "[43.709020000000066, -79.36348999999996]\n",
      "M5G\n",
      "[43.65609000000006, -79.38492999999994]\n",
      "M6G\n",
      "[43.668690000000026, -79.42070999999999]\n",
      "M1H\n",
      "[43.76944000000003, -79.23891999999995]\n",
      "M2H\n",
      "[43.80225000000007, -79.35557999999997]\n",
      "M3H\n",
      "[43.75788000000006, -79.44846999999999]\n",
      "M4H\n",
      "[43.70142000000004, -79.34904999999998]\n",
      "M5H\n",
      "[43.64970000000005, -79.38257999999996]\n",
      "M6H\n",
      "[43.665050000000065, -79.43890999999996]\n",
      "M1J\n",
      "[43.74446000000006, -79.23116999999996]\n",
      "M2J\n",
      "[43.780970000000025, -79.34780999999998]\n",
      "M3J\n",
      "[43.76476000000008, -79.48797999999994]\n",
      "M4J\n",
      "[43.68811000000005, -79.33417999999995]\n",
      "M5J\n",
      "[43.64285000000007, -79.38075999999995]\n",
      "M6J\n",
      "[43.64848000000006, -79.41773999999998]\n",
      "M1K\n",
      "[43.725820000000056, -79.26460999999995]\n",
      "M2K\n",
      "[43.781120000000044, -79.38059999999996]\n",
      "M3K\n",
      "[43.73384000000004, -79.46827999999994]\n",
      "M4K\n",
      "[43.68375000000003, -79.35511999999994]\n",
      "M5K\n",
      "[43.64710000000008, -79.38152999999994]\n",
      "M6K\n",
      "[43.639410000000055, -79.42675999999994]\n",
      "M1L\n",
      "[43.71289000000007, -79.28505999999999]\n",
      "M2L\n",
      "[43.756980000000055, -79.38059999999996]\n",
      "M3L\n",
      "[43.720710000000054, -79.51700999999997]\n",
      "M4L\n",
      "[43.667970000000025, -79.31466999999998]\n",
      "M5L\n",
      "[43.64840000000004, -79.37913999999995]\n",
      "M6L\n",
      "[43.71381000000008, -79.48873999999995]\n",
      "M9L\n",
      "[43.75948000000005, -79.55706999999995]\n",
      "M1M\n",
      "[43.72360000000003, -79.23495999999994]\n",
      "M2M\n",
      "[43.79182000000003, -79.41371999999996]\n",
      "M3M\n",
      "[43.73224000000005, -79.50177999999994]\n",
      "M4M\n",
      "[43.66213000000005, -79.33496999999994]\n",
      "M5M\n",
      "[43.73545000000007, -79.41915999999998]\n",
      "M6M\n",
      "[43.695170000000076, -79.48396999999994]\n",
      "M9M\n",
      "[43.733670000000075, -79.53768999999994]\n",
      "M1N\n",
      "[43.695100000000025, -79.26465999999994]\n",
      "M2N\n",
      "[43.76774000000006, -79.40727999999996]\n",
      "M3N\n",
      "[43.75478000000004, -79.51958999999994]\n",
      "M4N\n",
      "[43.72843000000006, -79.38712999999996]\n",
      "M5N\n",
      "[43.71208000000007, -79.41847999999999]\n",
      "M6N\n",
      "[43.67646000000008, -79.48271999999997]\n",
      "M9N\n",
      "[43.705070000000035, -79.51803999999998]\n",
      "M1P\n",
      "[43.75998000000004, -79.26939999999996]\n",
      "M2P\n",
      "[43.747780000000034, -79.40032999999994]\n",
      "M4P\n",
      "[43.71276000000006, -79.38850999999994]\n",
      "M5P\n",
      "[43.69479000000007, -79.41439999999994]\n",
      "M6P\n",
      "[43.659730000000025, -79.46280999999993]\n",
      "M9P\n",
      "[43.696300000000065, -79.52925999999997]\n",
      "M1R\n",
      "[43.75075000000004, -79.30053999999996]\n",
      "M2R\n",
      "[43.77989000000008, -79.44677999999999]\n",
      "M4R\n",
      "[43.71458000000007, -79.40667999999994]\n",
      "M5R\n",
      "[43.674840000000074, -79.40451999999993]\n",
      "M6R\n",
      "[43.64777000000004, -79.44988999999998]\n",
      "M7R\n",
      "[43.648690000000045, -79.38543999999996]\n",
      "M9R\n",
      "[43.68681000000004, -79.55727999999993]\n",
      "M1S\n",
      "[43.794520000000034, -79.26707999999996]\n",
      "M4S\n",
      "[43.703400000000045, -79.38658999999996]\n",
      "M5S\n",
      "[43.663110000000074, -79.40179999999998]\n",
      "M6S\n",
      "[43.649820000000034, -79.47547999999995]\n",
      "M1T\n",
      "[43.784910000000025, -79.29721999999998]\n",
      "M4T\n",
      "[43.690480000000036, -79.38317999999998]\n",
      "M5T\n",
      "[43.65351000000004, -79.39721999999995]\n",
      "M1V\n",
      "[43.817810000000065, -79.28043999999994]\n",
      "M4V\n",
      "[43.68568000000005, -79.40236999999996]\n",
      "M5V\n",
      "[43.640820000000076, -79.39817999999997]\n",
      "M8V\n",
      "[43.60987000000006, -79.49808999999993]\n",
      "M9V\n",
      "[43.744530000000054, -79.58623999999998]\n",
      "M1W\n",
      "[43.80079000000006, -79.32161999999994]\n",
      "M4W\n",
      "[43.68190000000004, -79.37828999999994]\n",
      "M5W\n",
      "[43.648690000000045, -79.38543999999996]\n",
      "M8W\n",
      "[43.601240000000075, -79.53878999999995]\n",
      "M9W\n",
      "[43.71174000000008, -79.57940999999994]\n",
      "M1X\n",
      "[43.83412000000004, -79.21667999999994]\n",
      "M4X\n",
      "[43.667880000000025, -79.36648999999994]\n",
      "M5X\n",
      "[43.64828000000006, -79.38145999999995]\n",
      "M8X\n",
      "[43.65319000000005, -79.51112999999998]\n",
      "M4Y\n",
      "[43.66659000000004, -79.38132999999993]\n",
      "M7Y\n",
      "[43.648690000000045, -79.38543999999996]\n",
      "M8Y\n",
      "[43.632780000000025, -79.48944999999998]\n",
      "M8Z\n",
      "[43.62513000000007, -79.52680999999995]\n",
      "[43.75245000000007, 43.73057000000006, 43.65512000000007, 43.72327000000007, 43.66253000000006, 43.662630000000036, 43.811390000000074, 43.74923000000007, 43.70718000000005, 43.65739000000008, 43.70687000000004, 43.65034000000003, 43.78574000000003, 43.72168000000005, 43.68970000000007, 43.65215000000006, 43.69211000000007, 43.64857000000006, 43.765750000000025, 43.67709000000008, 43.64536000000004, 43.68784000000005, 43.76812000000007, 43.709020000000066, 43.65609000000006, 43.668690000000026, 43.76944000000003, 43.80225000000007, 43.75788000000006, 43.70142000000004, 43.64970000000005, 43.665050000000065, 43.74446000000006, 43.780970000000025, 43.76476000000008, 43.68811000000005, 43.64285000000007, 43.64848000000006, 43.725820000000056, 43.781120000000044, 43.73384000000004, 43.68375000000003, 43.64710000000008, 43.639410000000055, 43.71289000000007, 43.756980000000055, 43.720710000000054, 43.667970000000025, 43.64840000000004, 43.71381000000008, 43.75948000000005, 43.72360000000003, 43.79182000000003, 43.73224000000005, 43.66213000000005, 43.73545000000007, 43.695170000000076, 43.733670000000075, 43.695100000000025, 43.76774000000006, 43.75478000000004, 43.72843000000006, 43.71208000000007, 43.67646000000008, 43.705070000000035, 43.75998000000004, 43.747780000000034, 43.71276000000006, 43.69479000000007, 43.659730000000025, 43.696300000000065, 43.75075000000004, 43.77989000000008, 43.71458000000007, 43.674840000000074, 43.64777000000004, 43.648690000000045, 43.68681000000004, 43.794520000000034, 43.703400000000045, 43.663110000000074, 43.649820000000034, 43.784910000000025, 43.690480000000036, 43.65351000000004, 43.817810000000065, 43.68568000000005, 43.640820000000076, 43.60987000000006, 43.744530000000054, 43.80079000000006, 43.68190000000004, 43.648690000000045, 43.601240000000075, 43.71174000000008, 43.83412000000004, 43.667880000000025, 43.64828000000006, 43.65319000000005, 43.66659000000004, 43.648690000000045, 43.632780000000025, 43.62513000000007]\n",
      "[-79.32990999999998, -79.31305999999995, -79.36263999999994, -79.45041999999995, -79.39187999999996, -79.52830999999998, -79.19661999999994, -79.36185999999998, -79.31191999999999, -79.37803999999994, -79.44811999999996, -79.55361999999997, -79.15874999999994, -79.34351999999996, -79.30681999999996, -79.37586999999996, -79.43035999999995, -79.57824999999997, -79.17469999999997, -79.29546999999997, -79.37305999999995, -79.45045999999996, -79.21760999999998, -79.36348999999996, -79.38492999999994, -79.42070999999999, -79.23891999999995, -79.35557999999997, -79.44846999999999, -79.34904999999998, -79.38257999999996, -79.43890999999996, -79.23116999999996, -79.34780999999998, -79.48797999999994, -79.33417999999995, -79.38075999999995, -79.41773999999998, -79.26460999999995, -79.38059999999996, -79.46827999999994, -79.35511999999994, -79.38152999999994, -79.42675999999994, -79.28505999999999, -79.38059999999996, -79.51700999999997, -79.31466999999998, -79.37913999999995, -79.48873999999995, -79.55706999999995, -79.23495999999994, -79.41371999999996, -79.50177999999994, -79.33496999999994, -79.41915999999998, -79.48396999999994, -79.53768999999994, -79.26465999999994, -79.40727999999996, -79.51958999999994, -79.38712999999996, -79.41847999999999, -79.48271999999997, -79.51803999999998, -79.26939999999996, -79.40032999999994, -79.38850999999994, -79.41439999999994, -79.46280999999993, -79.52925999999997, -79.30053999999996, -79.44677999999999, -79.40667999999994, -79.40451999999993, -79.44988999999998, -79.38543999999996, -79.55727999999993, -79.26707999999996, -79.38658999999996, -79.40179999999998, -79.47547999999995, -79.29721999999998, -79.38317999999998, -79.39721999999995, -79.28043999999994, -79.40236999999996, -79.39817999999997, -79.49808999999993, -79.58623999999998, -79.32161999999994, -79.37828999999994, -79.38543999999996, -79.53878999999995, -79.57940999999994, -79.21667999999994, -79.36648999999994, -79.38145999999995, -79.51112999999998, -79.38132999999993, -79.38543999999996, -79.48944999999998, -79.52680999999995]\n"
     ]
    },
    {
     "output_type": "execute_result",
     "data": {
      "text/plain": [
       "'\\ng=geocoder.arcgis(add)\\nlat.append(g.x)\\nlon.append(g.y) '"
      ]
     },
     "metadata": {},
     "execution_count": 40
    }
   ],
   "source": [
    "import geocoder # import geocoder\n",
    "latitude=[]\n",
    "longitude=[]\n",
    "for index,row in df.iterrows():\n",
    "    postal_code=row[\"PostalCode\"]\n",
    "    print(postal_code)\n",
    "    # initialize your variable to None\n",
    "    lat_lng_coords = None\n",
    "    # loop until you get the coordinates\n",
    "    while(lat_lng_coords is None):\n",
    "        g = geocoder.arcgis('{}, Toronto, Ontario'.format(postal_code))\n",
    "        lat_lng_coords = g.latlng\n",
    "        print(lat_lng_coords)\n",
    "    latitude.append(lat_lng_coords[0])\n",
    "    longitude.append(lat_lng_coords[1])\n",
    "print(latitude)\n",
    "print(longitude)   "
   ]
  },
  {
   "cell_type": "code",
   "execution_count": 49,
   "metadata": {},
   "outputs": [
    {
     "output_type": "execute_result",
     "data": {
      "text/plain": [
       "    PostalCode                Borough  \\\n",
       "0          M3A             North York   \n",
       "1          M4A             North York   \n",
       "2          M5A       Downtown Toronto   \n",
       "3          M6A             North York   \n",
       "4          M7A           Queen's Park   \n",
       "..         ...                    ...   \n",
       "98         M8X              Etobicoke   \n",
       "99         M4Y       Downtown Toronto   \n",
       "100        M7Y  East Toronto Business   \n",
       "101        M8Y              Etobicoke   \n",
       "102        M8Z              Etobicoke   \n",
       "\n",
       "                                          Neighborhood  Latitude  Longitude  \n",
       "0                                            Parkwoods  43.75245  -79.32991  \n",
       "1                                     Victoria Village  43.73057  -79.31306  \n",
       "2                            Regent Park, Harbourfront  43.65512  -79.36264  \n",
       "3                     Lawrence Manor, Lawrence Heights  43.72327  -79.45042  \n",
       "4                        Ontario Provincial Government  43.66253  -79.39188  \n",
       "..                                                 ...       ...        ...  \n",
       "98       The Kingsway, Montgomery Road, Old Mill North  43.65319  -79.51113  \n",
       "99                                Church and Wellesley  43.66659  -79.38133  \n",
       "100                                     Enclave of M4L  43.64869  -79.38544  \n",
       "101  Old Mill South, King's Mill Park, Sunnylea, Hu...  43.63278  -79.48945  \n",
       "102  Mimico NW, The Queensway West, South of Bloor,...  43.62513  -79.52681  \n",
       "\n",
       "[103 rows x 5 columns]"
      ],
      "text/html": "<div>\n<style scoped>\n    .dataframe tbody tr th:only-of-type {\n        vertical-align: middle;\n    }\n\n    .dataframe tbody tr th {\n        vertical-align: top;\n    }\n\n    .dataframe thead th {\n        text-align: right;\n    }\n</style>\n<table border=\"1\" class=\"dataframe\">\n  <thead>\n    <tr style=\"text-align: right;\">\n      <th></th>\n      <th>PostalCode</th>\n      <th>Borough</th>\n      <th>Neighborhood</th>\n      <th>Latitude</th>\n      <th>Longitude</th>\n    </tr>\n  </thead>\n  <tbody>\n    <tr>\n      <th>0</th>\n      <td>M3A</td>\n      <td>North York</td>\n      <td>Parkwoods</td>\n      <td>43.75245</td>\n      <td>-79.32991</td>\n    </tr>\n    <tr>\n      <th>1</th>\n      <td>M4A</td>\n      <td>North York</td>\n      <td>Victoria Village</td>\n      <td>43.73057</td>\n      <td>-79.31306</td>\n    </tr>\n    <tr>\n      <th>2</th>\n      <td>M5A</td>\n      <td>Downtown Toronto</td>\n      <td>Regent Park, Harbourfront</td>\n      <td>43.65512</td>\n      <td>-79.36264</td>\n    </tr>\n    <tr>\n      <th>3</th>\n      <td>M6A</td>\n      <td>North York</td>\n      <td>Lawrence Manor, Lawrence Heights</td>\n      <td>43.72327</td>\n      <td>-79.45042</td>\n    </tr>\n    <tr>\n      <th>4</th>\n      <td>M7A</td>\n      <td>Queen's Park</td>\n      <td>Ontario Provincial Government</td>\n      <td>43.66253</td>\n      <td>-79.39188</td>\n    </tr>\n    <tr>\n      <th>...</th>\n      <td>...</td>\n      <td>...</td>\n      <td>...</td>\n      <td>...</td>\n      <td>...</td>\n    </tr>\n    <tr>\n      <th>98</th>\n      <td>M8X</td>\n      <td>Etobicoke</td>\n      <td>The Kingsway, Montgomery Road, Old Mill North</td>\n      <td>43.65319</td>\n      <td>-79.51113</td>\n    </tr>\n    <tr>\n      <th>99</th>\n      <td>M4Y</td>\n      <td>Downtown Toronto</td>\n      <td>Church and Wellesley</td>\n      <td>43.66659</td>\n      <td>-79.38133</td>\n    </tr>\n    <tr>\n      <th>100</th>\n      <td>M7Y</td>\n      <td>East Toronto Business</td>\n      <td>Enclave of M4L</td>\n      <td>43.64869</td>\n      <td>-79.38544</td>\n    </tr>\n    <tr>\n      <th>101</th>\n      <td>M8Y</td>\n      <td>Etobicoke</td>\n      <td>Old Mill South, King's Mill Park, Sunnylea, Hu...</td>\n      <td>43.63278</td>\n      <td>-79.48945</td>\n    </tr>\n    <tr>\n      <th>102</th>\n      <td>M8Z</td>\n      <td>Etobicoke</td>\n      <td>Mimico NW, The Queensway West, South of Bloor,...</td>\n      <td>43.62513</td>\n      <td>-79.52681</td>\n    </tr>\n  </tbody>\n</table>\n<p>103 rows × 5 columns</p>\n</div>"
     },
     "metadata": {},
     "execution_count": 49
    }
   ],
   "source": [
    "## Adding latitude and longitude in a df\n",
    "df['Latitude']=latitude\n",
    "df['Longitude']=longitude\n",
    "df\n",
    "\n"
   ]
  },
  {
   "cell_type": "code",
   "execution_count": 50,
   "metadata": {},
   "outputs": [
    {
     "output_type": "execute_result",
     "data": {
      "text/plain": [
       "(103, 5)"
      ]
     },
     "metadata": {},
     "execution_count": 50
    }
   ],
   "source": [
    "df.shape"
   ]
  },
  {
   "cell_type": "code",
   "execution_count": null,
   "metadata": {},
   "outputs": [],
   "source": []
  }
 ],
 "metadata": {
  "kernelspec": {
   "name": "python3",
   "display_name": "Python 3.8.2 64-bit ('myenv': conda)",
   "metadata": {
    "interpreter": {
     "hash": "54ecdec749b1c4f71ee60b9fe114e9f7a2142682dec050c3e1400e98be5b507d"
    }
   }
  }
 },
 "nbformat": 4,
 "nbformat_minor": 4
}